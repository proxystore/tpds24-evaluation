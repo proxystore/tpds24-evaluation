{
 "cells": [
  {
   "cell_type": "code",
   "execution_count": 1,
   "id": "392435fa-0b92-4b77-aa34-03c786763165",
   "metadata": {
    "tags": []
   },
   "outputs": [
    {
     "data": {
      "text/plain": [
       "<module 'theme' from '/Users/jgpaul/workspace/tpds24-evaluation/notebooks/theme.py'>"
      ]
     },
     "execution_count": 1,
     "metadata": {},
     "output_type": "execute_result"
    }
   ],
   "source": [
    "from __future__ import annotations\n",
    "\n",
    "import importlib\n",
    "import json\n",
    "import pathlib\n",
    "import re\n",
    "from datetime import datetime\n",
    "\n",
    "import plotly.express as px\n",
    "import polars\n",
    "import theme\n",
    "\n",
    "importlib.reload(theme)"
   ]
  },
  {
   "cell_type": "code",
   "execution_count": 2,
   "id": "b4ed189e-0de4-4181-9981-e8d135d349a5",
   "metadata": {
    "tags": []
   },
   "outputs": [],
   "source": [
    "def read_log(filepath: pathlib.Path | str) -> list[str]:\n",
    "    with open(filepath) as f:\n",
    "        return f.readlines()"
   ]
  },
  {
   "cell_type": "code",
   "execution_count": 3,
   "id": "17dd6150-4c22-4431-9d36-4f39955ce4ca",
   "metadata": {
    "tags": []
   },
   "outputs": [],
   "source": [
    "def get_log_timestamp(log: str) -> datetime.datetime:\n",
    "    parts = log.split(' - ')\n",
    "    return datetime.strptime(parts[0], '%Y-%m-%d %H:%M:%S,%f')\n",
    "\n",
    "\n",
    "def get_batch_index(log: str) -> int:\n",
    "    matches = re.search('\\(batch: (\\d+)\\)', log)\n",
    "    return int(matches.group(1))\n",
    "\n",
    "\n",
    "def parse_baseline_inference_times(logs: list[str]) -> polars.DataFrame:\n",
    "    logs = [json.loads(log) for log in logs]\n",
    "\n",
    "    batches = [\n",
    "        {\n",
    "            'index': i,\n",
    "            'submitted': datetime.fromtimestamp(log['timestamp']['created']),\n",
    "            'received': datetime.fromtimestamp(\n",
    "                log['timestamp']['result_received'],\n",
    "            ),\n",
    "        }\n",
    "        for i, log in enumerate(logs)\n",
    "    ]\n",
    "\n",
    "    df = polars.from_dicts(batches)\n",
    "    df = df.with_columns(\n",
    "        (polars.col('received') - polars.col('submitted')).alias('timespan'),\n",
    "    )\n",
    "\n",
    "    return df\n",
    "\n",
    "\n",
    "def parse_proxystream_inference_times(logs: list[str]) -> polars.DataFrame:\n",
    "    submitted_logs = [log for log in logs if 'Sending inference input' in log]\n",
    "    received_logs = [log for log in logs if 'Received inference output' in log]\n",
    "\n",
    "    submitted_times = {\n",
    "        get_batch_index(log): get_log_timestamp(log) for log in submitted_logs\n",
    "    }\n",
    "    received_times = {\n",
    "        get_batch_index(log): get_log_timestamp(log) for log in received_logs\n",
    "    }\n",
    "    batches = set(submitted_times.keys()) & set(received_times.keys())\n",
    "\n",
    "    batches = [\n",
    "        {\n",
    "            'index': i,\n",
    "            'submitted': submitted_times[i],\n",
    "            'received': received_times[i],\n",
    "        }\n",
    "        for i in batches\n",
    "    ]\n",
    "\n",
    "    df = polars.from_dicts(batches)\n",
    "    df = df.with_columns(\n",
    "        (polars.col('received') - polars.col('submitted')).alias('timespan'),\n",
    "    )\n",
    "\n",
    "    return df"
   ]
  },
  {
   "cell_type": "code",
   "execution_count": 4,
   "id": "ce4cbfdc-c1c3-452b-b4b2-b72e513eaa76",
   "metadata": {
    "tags": []
   },
   "outputs": [],
   "source": [
    "def plot_distributions(baseline_times, proxystream_times, layout=None):\n",
    "    baseline_times = baseline_times.select(\n",
    "        polars.col('index'),\n",
    "        polars.col('timespan').dt.total_microseconds() / 1e6,\n",
    "        polars.lit('Baseline').alias('method'),\n",
    "    )\n",
    "    proxystream_times = proxystream_times.select(\n",
    "        polars.col('index'),\n",
    "        polars.col('timespan').dt.total_microseconds() / 1e6,\n",
    "        polars.lit('ProxyStream').alias('method'),\n",
    "    )\n",
    "\n",
    "    times = polars.concat([baseline_times, proxystream_times])\n",
    "\n",
    "    colors = {\n",
    "        'Baseline': theme.colors['green'],\n",
    "        'ProxyStream': theme.colors['purple'],\n",
    "    }\n",
    "\n",
    "    fig = px.box(\n",
    "        x=times['timespan'],\n",
    "        y=times['method'],\n",
    "        orientation='h',\n",
    "        color=times['method'],\n",
    "        color_discrete_map=colors,\n",
    "    )\n",
    "    layout = {} if layout is None else layout\n",
    "    fig.update_layout(\n",
    "        xaxis_title='Inference Time (s)',\n",
    "        yaxis=dict(autorange='reversed', title=None),\n",
    "        showlegend=False,\n",
    "        legend=dict(\n",
    "            yanchor='bottom',\n",
    "            y=0.02,\n",
    "            xanchor='right',\n",
    "            x=0.995,\n",
    "            title=None,\n",
    "        ),\n",
    "        template='proxystore',\n",
    "        boxgap=0,\n",
    "        boxmode='overlay',\n",
    "        **layout,\n",
    "    )\n",
    "    return fig"
   ]
  },
  {
   "cell_type": "code",
   "execution_count": 5,
   "id": "c3c911ab-1a60-4ef0-b4b5-a28f612ed48e",
   "metadata": {
    "tags": []
   },
   "outputs": [],
   "source": [
    "def plot_batch_time(baseline_times, proxystream_times, layout=None):\n",
    "    baseline_times = baseline_times.select(\n",
    "        polars.col('index'),\n",
    "        polars.col('timespan').dt.total_microseconds() / 1e6,\n",
    "        polars.lit('Baseline').alias('method'),\n",
    "    )\n",
    "    proxystream_times = proxystream_times.select(\n",
    "        polars.col('index'),\n",
    "        polars.col('timespan').dt.total_microseconds() / 1e6,\n",
    "        polars.lit('ProxyStream').alias('method'),\n",
    "    )\n",
    "\n",
    "    times = polars.concat([baseline_times, proxystream_times])\n",
    "\n",
    "    colors = {\n",
    "        'Baseline': px.colors.qualitative.Bold[1],\n",
    "        'ProxyStream': px.colors.qualitative.Bold[0],\n",
    "    }\n",
    "    \n",
    "    fig = px.line(\n",
    "        x=times['index'],\n",
    "        y=times['timespan'],\n",
    "        color=times['method'],\n",
    "        color_discrete_map=colors,\n",
    "    )\n",
    "    layout = {} if layout is None else layout\n",
    "    fig.update_layout(\n",
    "        xaxis_title='Inference Batch Index',\n",
    "        yaxis_title='Inference<br>Time (s)',\n",
    "        legend=dict(\n",
    "            yanchor='top',\n",
    "            y=0.85,\n",
    "            xanchor='left',\n",
    "            x=1.01,\n",
    "            title=None,\n",
    "        ),\n",
    "        template='proxystore',\n",
    "        **layout,\n",
    "    )\n",
    "    return fig"
   ]
  },
  {
   "cell_type": "markdown",
   "id": "c4c50433-dbe2-42ad-81f1-97ca2f363fde",
   "metadata": {},
   "source": [
    "## Single Node Test"
   ]
  },
  {
   "cell_type": "code",
   "execution_count": 6,
   "id": "83b65157-29e8-4857-a18e-a34076cfd90a",
   "metadata": {},
   "outputs": [
    {
     "name": "stdout",
     "output_type": "stream",
     "text": [
      "Baseline Mean (std): 3.264023 ± 6.615977\n",
      "ProxyStream Mean (std): 0.663543 ± 0.245087\n"
     ]
    },
    {
     "data": {
      "image/svg+xml": [
       "<svg class=\"main-svg\" xmlns=\"http://www.w3.org/2000/svg\" xmlns:xlink=\"http://www.w3.org/1999/xlink\" width=\"500\" height=\"150\" style=\"\" viewBox=\"0 0 500 150\"><rect x=\"0\" y=\"0\" width=\"500\" height=\"150\" style=\"fill: rgb(255, 255, 255); fill-opacity: 1;\"/><defs id=\"defs-2b1a6f\"><g class=\"clips\"><clipPath id=\"clip2b1a6fxyplot\" class=\"plotclip\"><rect width=\"418\" height=\"106\"/></clipPath><clipPath class=\"axesclip\" id=\"clip2b1a6fx\"><rect x=\"71\" y=\"0\" width=\"418\" height=\"150\"/></clipPath><clipPath class=\"axesclip\" id=\"clip2b1a6fy\"><rect x=\"0\" y=\"6\" width=\"500\" height=\"106\"/></clipPath><clipPath class=\"axesclip\" id=\"clip2b1a6fxy\"><rect x=\"71\" y=\"6\" width=\"418\" height=\"106\"/></clipPath></g><g class=\"gradients\"/><g class=\"patterns\"/></defs><g class=\"bglayer\"/><g class=\"layer-below\"><g class=\"imagelayer\"/><g class=\"shapelayer\"/></g><g class=\"cartesianlayer\"><g class=\"subplot xy\"><g class=\"layer-subplot\"><g class=\"shapelayer\"/><g class=\"imagelayer\"/></g><g class=\"minor-gridlayer\"><g class=\"x\"/><g class=\"y\"/></g><g class=\"gridlayer\"><g class=\"x\"><path class=\"xgrid crisp\" transform=\"translate(175.5,0)\" d=\"M0,6v106\" style=\"stroke: rgb(224, 224, 224); stroke-opacity: 1; stroke-width: 1px;\"/><path class=\"xgrid crisp\" transform=\"translate(280,0)\" d=\"M0,6v106\" style=\"stroke: rgb(224, 224, 224); stroke-opacity: 1; stroke-width: 1px;\"/><path class=\"xgrid crisp\" transform=\"translate(384.5,0)\" d=\"M0,6v106\" style=\"stroke: rgb(224, 224, 224); stroke-opacity: 1; stroke-width: 1px;\"/></g><g class=\"y\"><path class=\"ygrid crisp\" transform=\"translate(0,85.5)\" d=\"M71,0h418\" style=\"stroke: rgb(224, 224, 224); stroke-opacity: 1; stroke-width: 1px;\"/><path class=\"ygrid crisp\" transform=\"translate(0,32.5)\" d=\"M71,0h418\" style=\"stroke: rgb(224, 224, 224); stroke-opacity: 1; stroke-width: 1px;\"/></g></g><g class=\"zerolinelayer\"/><path class=\"xlines-below\"/><path class=\"ylines-below\"/><g class=\"overlines-below\"/><g class=\"xaxislayer-below\"/><g class=\"yaxislayer-below\"/><g class=\"overaxes-below\"/><g class=\"plot\" transform=\"translate(71,6)\" clip-path=\"url(#clip2b1a6fxyplot)\"><g class=\"boxlayer mlayer\"><g class=\"trace boxes\" style=\"opacity: 1;\"><path class=\"box\" d=\"M18.35,7.95V45.05M12.56,7.95V45.05H22.8V7.95ZM12.56,26.5H6.84M22.8,26.5H31.57M6.84,17.23V35.78M31.57,17.23V35.78\" style=\"vector-effect: none; stroke-width: 2px; stroke: rgb(17, 165, 121); stroke-opacity: 1; fill: rgb(17, 165, 121); fill-opacity: 0.5;\"/><g class=\"points\"><path class=\"point\" transform=\"translate(41.29,26.5)\" d=\"M3,0A3,3 0 1,1 0,-3A3,3 0 0,1 3,0Z\" style=\"opacity: 1; stroke-width: 0px; fill: rgb(17, 165, 121); fill-opacity: 1;\"/><path class=\"point\" transform=\"translate(73.16,26.5)\" d=\"M3,0A3,3 0 1,1 0,-3A3,3 0 0,1 3,0Z\" style=\"opacity: 1; stroke-width: 0px; fill: rgb(17, 165, 121); fill-opacity: 1;\"/><path class=\"point\" transform=\"translate(124.23,26.5)\" d=\"M3,0A3,3 0 1,1 0,-3A3,3 0 0,1 3,0Z\" style=\"opacity: 1; stroke-width: 0px; fill: rgb(17, 165, 121); fill-opacity: 1;\"/><path class=\"point\" transform=\"translate(125.36,26.5)\" d=\"M3,0A3,3 0 1,1 0,-3A3,3 0 0,1 3,0Z\" style=\"opacity: 1; stroke-width: 0px; fill: rgb(17, 165, 121); fill-opacity: 1;\"/><path class=\"point\" transform=\"translate(134.93,26.5)\" d=\"M3,0A3,3 0 1,1 0,-3A3,3 0 0,1 3,0Z\" style=\"opacity: 1; stroke-width: 0px; fill: rgb(17, 165, 121); fill-opacity: 1;\"/><path class=\"point\" transform=\"translate(149.51,26.5)\" d=\"M3,0A3,3 0 1,1 0,-3A3,3 0 0,1 3,0Z\" style=\"opacity: 1; stroke-width: 0px; fill: rgb(17, 165, 121); fill-opacity: 1;\"/><path class=\"point\" transform=\"translate(180.24,26.5)\" d=\"M3,0A3,3 0 1,1 0,-3A3,3 0 0,1 3,0Z\" style=\"opacity: 1; stroke-width: 0px; fill: rgb(17, 165, 121); fill-opacity: 1;\"/><path class=\"point\" transform=\"translate(190.02,26.5)\" d=\"M3,0A3,3 0 1,1 0,-3A3,3 0 0,1 3,0Z\" style=\"opacity: 1; stroke-width: 0px; fill: rgb(17, 165, 121); fill-opacity: 1;\"/><path class=\"point\" transform=\"translate(194.27,26.5)\" d=\"M3,0A3,3 0 1,1 0,-3A3,3 0 0,1 3,0Z\" style=\"opacity: 1; stroke-width: 0px; fill: rgb(17, 165, 121); fill-opacity: 1;\"/><path class=\"point\" transform=\"translate(222.02,26.5)\" d=\"M3,0A3,3 0 1,1 0,-3A3,3 0 0,1 3,0Z\" style=\"opacity: 1; stroke-width: 0px; fill: rgb(17, 165, 121); fill-opacity: 1;\"/><path class=\"point\" transform=\"translate(242.89,26.5)\" d=\"M3,0A3,3 0 1,1 0,-3A3,3 0 0,1 3,0Z\" style=\"opacity: 1; stroke-width: 0px; fill: rgb(17, 165, 121); fill-opacity: 1;\"/><path class=\"point\" transform=\"translate(253.47,26.5)\" d=\"M3,0A3,3 0 1,1 0,-3A3,3 0 0,1 3,0Z\" style=\"opacity: 1; stroke-width: 0px; fill: rgb(17, 165, 121); fill-opacity: 1;\"/><path class=\"point\" transform=\"translate(270.54,26.5)\" d=\"M3,0A3,3 0 1,1 0,-3A3,3 0 0,1 3,0Z\" style=\"opacity: 1; stroke-width: 0px; fill: rgb(17, 165, 121); fill-opacity: 1;\"/><path class=\"point\" transform=\"translate(280.05,26.5)\" d=\"M3,0A3,3 0 1,1 0,-3A3,3 0 0,1 3,0Z\" style=\"opacity: 1; stroke-width: 0px; fill: rgb(17, 165, 121); fill-opacity: 1;\"/><path class=\"point\" transform=\"translate(294.74,26.5)\" d=\"M3,0A3,3 0 1,1 0,-3A3,3 0 0,1 3,0Z\" style=\"opacity: 1; stroke-width: 0px; fill: rgb(17, 165, 121); fill-opacity: 1;\"/><path class=\"point\" transform=\"translate(327.93,26.5)\" d=\"M3,0A3,3 0 1,1 0,-3A3,3 0 0,1 3,0Z\" style=\"opacity: 1; stroke-width: 0px; fill: rgb(17, 165, 121); fill-opacity: 1;\"/><path class=\"point\" transform=\"translate(331.36,26.5)\" d=\"M3,0A3,3 0 1,1 0,-3A3,3 0 0,1 3,0Z\" style=\"opacity: 1; stroke-width: 0px; fill: rgb(17, 165, 121); fill-opacity: 1;\"/><path class=\"point\" transform=\"translate(344.74,26.5)\" d=\"M3,0A3,3 0 1,1 0,-3A3,3 0 0,1 3,0Z\" style=\"opacity: 1; stroke-width: 0px; fill: rgb(17, 165, 121); fill-opacity: 1;\"/><path class=\"point\" transform=\"translate(363.76,26.5)\" d=\"M3,0A3,3 0 1,1 0,-3A3,3 0 0,1 3,0Z\" style=\"opacity: 1; stroke-width: 0px; fill: rgb(17, 165, 121); fill-opacity: 1;\"/><path class=\"point\" transform=\"translate(383.52,26.5)\" d=\"M3,0A3,3 0 1,1 0,-3A3,3 0 0,1 3,0Z\" style=\"opacity: 1; stroke-width: 0px; fill: rgb(17, 165, 121); fill-opacity: 1;\"/><path class=\"point\" transform=\"translate(388.16,26.5)\" d=\"M3,0A3,3 0 1,1 0,-3A3,3 0 0,1 3,0Z\" style=\"opacity: 1; stroke-width: 0px; fill: rgb(17, 165, 121); fill-opacity: 1;\"/><path class=\"point\" transform=\"translate(395.45,26.5)\" d=\"M3,0A3,3 0 1,1 0,-3A3,3 0 0,1 3,0Z\" style=\"opacity: 1; stroke-width: 0px; fill: rgb(17, 165, 121); fill-opacity: 1;\"/><path class=\"point\" transform=\"translate(412.68,26.5)\" d=\"M3,0A3,3 0 1,1 0,-3A3,3 0 0,1 3,0Z\" style=\"opacity: 1; stroke-width: 0px; fill: rgb(17, 165, 121); fill-opacity: 1;\"/><path class=\"point\" transform=\"translate(443.56,26.5)\" d=\"M3,0A3,3 0 1,1 0,-3A3,3 0 0,1 3,0Z\" style=\"opacity: 1; stroke-width: 0px; fill: rgb(17, 165, 121); fill-opacity: 1;\"/><path class=\"point\" transform=\"translate(444.54,26.5)\" d=\"M3,0A3,3 0 1,1 0,-3A3,3 0 0,1 3,0Z\" style=\"opacity: 1; stroke-width: 0px; fill: rgb(17, 165, 121); fill-opacity: 1;\"/><path class=\"point\" transform=\"translate(463.44,26.5)\" d=\"M3,0A3,3 0 1,1 0,-3A3,3 0 0,1 3,0Z\" style=\"opacity: 1; stroke-width: 0px; fill: rgb(17, 165, 121); fill-opacity: 1;\"/><path class=\"point\" transform=\"translate(472.52,26.5)\" d=\"M3,0A3,3 0 1,1 0,-3A3,3 0 0,1 3,0Z\" style=\"opacity: 1; stroke-width: 0px; fill: rgb(17, 165, 121); fill-opacity: 1;\"/><path class=\"point\" transform=\"translate(493.93,26.5)\" d=\"M3,0A3,3 0 1,1 0,-3A3,3 0 0,1 3,0Z\" style=\"opacity: 1; stroke-width: 0px; fill: rgb(17, 165, 121); fill-opacity: 1;\"/><path class=\"point\" transform=\"translate(524.59,26.5)\" d=\"M3,0A3,3 0 1,1 0,-3A3,3 0 0,1 3,0Z\" style=\"opacity: 1; stroke-width: 0px; fill: rgb(17, 165, 121); fill-opacity: 1;\"/><path class=\"point\" transform=\"translate(525.88,26.5)\" d=\"M3,0A3,3 0 1,1 0,-3A3,3 0 0,1 3,0Z\" style=\"opacity: 1; stroke-width: 0px; fill: rgb(17, 165, 121); fill-opacity: 1;\"/><path class=\"point\" transform=\"translate(544.59,26.5)\" d=\"M3,0A3,3 0 1,1 0,-3A3,3 0 0,1 3,0Z\" style=\"opacity: 1; stroke-width: 0px; fill: rgb(17, 165, 121); fill-opacity: 1;\"/><path class=\"point\" transform=\"translate(550.38,26.5)\" d=\"M3,0A3,3 0 1,1 0,-3A3,3 0 0,1 3,0Z\" style=\"opacity: 1; stroke-width: 0px; fill: rgb(17, 165, 121); fill-opacity: 1;\"/><path class=\"point\" transform=\"translate(567.49,26.5)\" d=\"M3,0A3,3 0 1,1 0,-3A3,3 0 0,1 3,0Z\" style=\"opacity: 1; stroke-width: 0px; fill: rgb(17, 165, 121); fill-opacity: 1;\"/><path class=\"point\" transform=\"translate(577.64,26.5)\" d=\"M3,0A3,3 0 1,1 0,-3A3,3 0 0,1 3,0Z\" style=\"opacity: 1; stroke-width: 0px; fill: rgb(17, 165, 121); fill-opacity: 1;\"/><path class=\"point\" transform=\"translate(595,26.5)\" d=\"M3,0A3,3 0 1,1 0,-3A3,3 0 0,1 3,0Z\" style=\"opacity: 1; stroke-width: 0px; fill: rgb(17, 165, 121); fill-opacity: 1;\"/><path class=\"point\" transform=\"translate(602.31,26.5)\" d=\"M3,0A3,3 0 1,1 0,-3A3,3 0 0,1 3,0Z\" style=\"opacity: 1; stroke-width: 0px; fill: rgb(17, 165, 121); fill-opacity: 1;\"/><path class=\"point\" transform=\"translate(619.8,26.5)\" d=\"M3,0A3,3 0 1,1 0,-3A3,3 0 0,1 3,0Z\" style=\"opacity: 1; stroke-width: 0px; fill: rgb(17, 165, 121); fill-opacity: 1;\"/></g></g><g class=\"trace boxes\" style=\"opacity: 1;\"><path class=\"box\" d=\"M13.5,60.95V98.05M9.77,60.95V98.05H17.51V60.95ZM9.77,79.5H5.81M17.51,79.5H27.84M5.81,70.22V88.78M27.84,70.22V88.78\" style=\"vector-effect: none; stroke-width: 2px; stroke: rgb(77, 56, 134); stroke-opacity: 1; fill: rgb(77, 56, 134); fill-opacity: 0.5;\"/><g class=\"points\"><path class=\"point\" transform=\"translate(29.45,79.5)\" d=\"M3,0A3,3 0 1,1 0,-3A3,3 0 0,1 3,0Z\" style=\"opacity: 1; stroke-width: 0px; fill: rgb(77, 56, 134); fill-opacity: 1;\"/><path class=\"point\" transform=\"translate(31.43,79.5)\" d=\"M3,0A3,3 0 1,1 0,-3A3,3 0 0,1 3,0Z\" style=\"opacity: 1; stroke-width: 0px; fill: rgb(77, 56, 134); fill-opacity: 1;\"/></g></g></g></g><g class=\"overplot\"/><path class=\"xlines-above crisp\" d=\"M70,112.5H490M70,5.5H490\" style=\"fill: none; stroke-width: 1px; stroke: rgb(97, 97, 97); stroke-opacity: 1;\"/><path class=\"ylines-above crisp\" d=\"M70.5,6V112M489.5,6V112\" style=\"fill: none; stroke-width: 1px; stroke: rgb(97, 97, 97); stroke-opacity: 1;\"/><g class=\"overlines-above\"/><g class=\"xaxislayer-above\"><path class=\"xtick ticks crisp\" d=\"M0,113v5\" transform=\"translate(71,0)\" style=\"stroke: rgb(68, 68, 68); stroke-opacity: 1; stroke-width: 1px;\"/><path class=\"xtick ticks crisp\" d=\"M0,113v5\" transform=\"translate(175.5,0)\" style=\"stroke: rgb(68, 68, 68); stroke-opacity: 1; stroke-width: 1px;\"/><path class=\"xtick ticks crisp\" d=\"M0,113v5\" transform=\"translate(280,0)\" style=\"stroke: rgb(68, 68, 68); stroke-opacity: 1; stroke-width: 1px;\"/><path class=\"xtick ticks crisp\" d=\"M0,113v5\" transform=\"translate(384.5,0)\" style=\"stroke: rgb(68, 68, 68); stroke-opacity: 1; stroke-width: 1px;\"/><path class=\"xtick ticks crisp\" d=\"M0,113v5\" transform=\"translate(489,0)\" style=\"stroke: rgb(68, 68, 68); stroke-opacity: 1; stroke-width: 1px;\"/><g class=\"xtick\"><text text-anchor=\"middle\" x=\"0\" y=\"130\" transform=\"translate(71,0)\" style=\"font-family: Arial; font-size: 10px; fill: rgb(36, 36, 36); fill-opacity: 1; white-space: pre; opacity: 1;\">0</text></g><g class=\"xtick\"><text text-anchor=\"middle\" x=\"0\" y=\"130\" style=\"font-family: Arial; font-size: 10px; fill: rgb(36, 36, 36); fill-opacity: 1; white-space: pre; opacity: 1;\" transform=\"translate(175.5,0)\">5</text></g><g class=\"xtick\"><text text-anchor=\"middle\" x=\"0\" y=\"130\" style=\"font-family: Arial; font-size: 10px; fill: rgb(36, 36, 36); fill-opacity: 1; white-space: pre; opacity: 1;\" transform=\"translate(280,0)\">10</text></g><g class=\"xtick\"><text text-anchor=\"middle\" x=\"0\" y=\"130\" style=\"font-family: Arial; font-size: 10px; fill: rgb(36, 36, 36); fill-opacity: 1; white-space: pre; opacity: 1;\" transform=\"translate(384.5,0)\">15</text></g><g class=\"xtick\"><text text-anchor=\"middle\" x=\"0\" y=\"130\" style=\"font-family: Arial; font-size: 10px; fill: rgb(36, 36, 36); fill-opacity: 1; white-space: pre; opacity: 1;\" transform=\"translate(489,0)\">20</text></g></g><g class=\"yaxislayer-above\"><path class=\"ytick ticks crisp\" d=\"M70,0h-5\" transform=\"translate(0,85.5)\" style=\"stroke: rgb(68, 68, 68); stroke-opacity: 1; stroke-width: 1px;\"/><path class=\"ytick ticks crisp\" d=\"M70,0h-5\" transform=\"translate(0,32.5)\" style=\"stroke: rgb(68, 68, 68); stroke-opacity: 1; stroke-width: 1px;\"/><g class=\"ytick\"><text text-anchor=\"end\" x=\"63\" y=\"3.5\" transform=\"translate(0,85.5)\" style=\"font-family: Arial; font-size: 10px; fill: rgb(36, 36, 36); fill-opacity: 1; white-space: pre; opacity: 1;\">ProxyStream</text></g><g class=\"ytick\"><text text-anchor=\"end\" x=\"63\" y=\"3.5\" transform=\"translate(0,32.5)\" style=\"font-family: Arial; font-size: 10px; fill: rgb(36, 36, 36); fill-opacity: 1; white-space: pre; opacity: 1;\">Baseline</text></g></g><g class=\"overaxes-above\"/></g></g><g class=\"polarlayer\"/><g class=\"smithlayer\"/><g class=\"ternarylayer\"/><g class=\"geolayer\"/><g class=\"funnelarealayer\"/><g class=\"pielayer\"/><g class=\"iciclelayer\"/><g class=\"treemaplayer\"/><g class=\"sunburstlayer\"/><g class=\"glimages\"/><defs id=\"topdefs-2b1a6f\"><g class=\"clips\"/></defs><g class=\"layer-above\"><g class=\"imagelayer\"/><g class=\"shapelayer\"/></g><g class=\"infolayer\"><g class=\"g-gtitle\"/><g class=\"g-xtitle\"><text class=\"xtitle\" x=\"280\" y=\"144.9\" text-anchor=\"middle\" style=\"font-family: Arial; font-size: 12px; fill: rgb(36, 36, 36); opacity: 1; font-weight: normal; white-space: pre;\">Inference Time (s)</text></g><g class=\"g-ytitle\"/></g></svg>"
      ]
     },
     "metadata": {},
     "output_type": "display_data"
    }
   ],
   "source": [
    "baseline_logs = read_log(\n",
    "    '../data/polaris/4-deepdrivemd/bba-baseline-160324-174754/result/inference.json',\n",
    ")\n",
    "proxystream_logs = read_log(\n",
    "    '../data/polaris/4-deepdrivemd/bba-proxystream-160324-163305/runtime.log',\n",
    ")\n",
    "\n",
    "baseline_times = parse_baseline_inference_times(baseline_logs)\n",
    "proxystream_times = parse_proxystream_inference_times(proxystream_logs)\n",
    "\n",
    "baseline_summary = (\n",
    "    baseline_times['timespan'].mean().total_seconds(),\n",
    "    baseline_times['timespan'].std().total_seconds(),\n",
    ")\n",
    "proxystream_summary = (\n",
    "    proxystream_times['timespan'].mean().total_seconds(),\n",
    "    proxystream_times['timespan'].std().total_seconds(),\n",
    ")\n",
    "print(f'Baseline Mean (std): {baseline_summary[0]} ± {baseline_summary[1]}')\n",
    "print(\n",
    "    f'ProxyStream Mean (std): {proxystream_summary[0]} ± {proxystream_summary[1]}',\n",
    ")\n",
    "\n",
    "layout = dict(\n",
    "    width=500,\n",
    "    height=150,\n",
    "    xaxis_range=[0, 20],\n",
    "    margin=dict(l=5, r=5, t=5, b=5),\n",
    ")\n",
    "\n",
    "fig = plot_distributions(baseline_times, proxystream_times, layout)\n",
    "fig.show(renderer='svg')"
   ]
  },
  {
   "cell_type": "markdown",
   "id": "425ef813-e423-4c7b-b43b-858b8da0f43c",
   "metadata": {},
   "source": [
    "## 10 Node Run"
   ]
  },
  {
   "cell_type": "code",
   "execution_count": 8,
   "id": "5658d485-471f-452c-97e1-5ed05ea9d96e",
   "metadata": {
    "tags": []
   },
   "outputs": [
    {
     "name": "stdout",
     "output_type": "stream",
     "text": [
      "Baseline inference batchs: 96\n",
      "ProxyStream inference batchs: 116\n",
      "Baseline Mean (std): 21.290505 ± 8.804516\n",
      "ProxyStream Mean (std): 15.026258 ± 8.483399\n"
     ]
    },
    {
     "data": {
      "image/svg+xml": [
       "<svg class=\"main-svg\" xmlns=\"http://www.w3.org/2000/svg\" xmlns:xlink=\"http://www.w3.org/1999/xlink\" width=\"500\" height=\"125\" style=\"\" viewBox=\"0 0 500 125\"><rect x=\"0\" y=\"0\" width=\"500\" height=\"125\" style=\"fill: rgb(255, 255, 255); fill-opacity: 1;\"/><defs id=\"defs-f4f642\"><g class=\"clips\"><clipPath id=\"clipf4f642xyplot\" class=\"plotclip\"><rect width=\"423\" height=\"81\"/></clipPath><clipPath class=\"axesclip\" id=\"clipf4f642x\"><rect x=\"71\" y=\"0\" width=\"423\" height=\"125\"/></clipPath><clipPath class=\"axesclip\" id=\"clipf4f642y\"><rect x=\"0\" y=\"6\" width=\"500\" height=\"81\"/></clipPath><clipPath class=\"axesclip\" id=\"clipf4f642xy\"><rect x=\"71\" y=\"6\" width=\"423\" height=\"81\"/></clipPath></g><g class=\"gradients\"/><g class=\"patterns\"/></defs><g class=\"bglayer\"/><g class=\"layer-below\"><g class=\"imagelayer\"/><g class=\"shapelayer\"/></g><g class=\"cartesianlayer\"><g class=\"subplot xy\"><g class=\"layer-subplot\"><g class=\"shapelayer\"/><g class=\"imagelayer\"/></g><g class=\"minor-gridlayer\"><g class=\"x\"/><g class=\"y\"/></g><g class=\"gridlayer\"><g class=\"x\"><path class=\"xgrid crisp\" transform=\"translate(73.83,0)\" d=\"M0,6v81\" style=\"stroke: rgb(224, 224, 224); stroke-opacity: 1; stroke-width: 1px;\"/><path class=\"xgrid crisp\" transform=\"translate(150.24,0)\" d=\"M0,6v81\" style=\"stroke: rgb(224, 224, 224); stroke-opacity: 1; stroke-width: 1px;\"/><path class=\"xgrid crisp\" transform=\"translate(226.65,0)\" d=\"M0,6v81\" style=\"stroke: rgb(224, 224, 224); stroke-opacity: 1; stroke-width: 1px;\"/><path class=\"xgrid crisp\" transform=\"translate(303.06,0)\" d=\"M0,6v81\" style=\"stroke: rgb(224, 224, 224); stroke-opacity: 1; stroke-width: 1px;\"/><path class=\"xgrid crisp\" transform=\"translate(379.47,0)\" d=\"M0,6v81\" style=\"stroke: rgb(224, 224, 224); stroke-opacity: 1; stroke-width: 1px;\"/><path class=\"xgrid crisp\" transform=\"translate(455.88,0)\" d=\"M0,6v81\" style=\"stroke: rgb(224, 224, 224); stroke-opacity: 1; stroke-width: 1px;\"/></g><g class=\"y\"><path class=\"ygrid crisp\" transform=\"translate(0,66.75)\" d=\"M71,0h423\" style=\"stroke: rgb(224, 224, 224); stroke-opacity: 1; stroke-width: 1px;\"/><path class=\"ygrid crisp\" transform=\"translate(0,26.25)\" d=\"M71,0h423\" style=\"stroke: rgb(224, 224, 224); stroke-opacity: 1; stroke-width: 1px;\"/></g></g><g class=\"zerolinelayer\"/><path class=\"xlines-below\"/><path class=\"ylines-below\"/><g class=\"overlines-below\"/><g class=\"xaxislayer-below\"/><g class=\"yaxislayer-below\"/><g class=\"overaxes-below\"/><g class=\"plot\" transform=\"translate(71,6)\" clip-path=\"url(#clipf4f642xyplot)\"><g class=\"boxlayer mlayer\"><g class=\"trace boxes\" style=\"opacity: 1;\"><path class=\"box\" d=\"M168.35,6.08V34.42M124.87,6.08V34.42H206.23V6.08ZM124.87,20.25H21.15M206.23,20.25H302.63M21.15,13.16V27.34M302.63,13.16V27.34\" style=\"vector-effect: none; stroke-width: 2px; stroke: rgb(17, 165, 121); stroke-opacity: 1; fill: rgb(17, 165, 121); fill-opacity: 0.5;\"/><g class=\"points\"><path class=\"point\" transform=\"translate(385.68,20.25)\" d=\"M3,0A3,3 0 1,1 0,-3A3,3 0 0,1 3,0Z\" style=\"opacity: 1; stroke-width: 0px; fill: rgb(17, 165, 121); fill-opacity: 1;\"/><path class=\"point\" transform=\"translate(401.85,20.25)\" d=\"M3,0A3,3 0 1,1 0,-3A3,3 0 0,1 3,0Z\" style=\"opacity: 1; stroke-width: 0px; fill: rgb(17, 165, 121); fill-opacity: 1;\"/></g></g><g class=\"trace boxes\" style=\"opacity: 1;\"><path class=\"box\" d=\"M109.76,46.58V74.93M58.73,46.58V74.93H173.13V46.58ZM58.73,60.75H21.36M173.13,60.75H236.48M21.36,53.66V67.84M236.48,53.66V67.84\" style=\"vector-effect: none; stroke-width: 2px; stroke: rgb(77, 56, 134); stroke-opacity: 1; fill: rgb(77, 56, 134); fill-opacity: 0.5;\"/><g class=\"points\"/></g></g></g><g class=\"overplot\"/><path class=\"xlines-above crisp\" d=\"M70,87.5H495M70,5.5H495\" style=\"fill: none; stroke-width: 1px; stroke: rgb(97, 97, 97); stroke-opacity: 1;\"/><path class=\"ylines-above crisp\" d=\"M70.5,6V87M494.5,6V87\" style=\"fill: none; stroke-width: 1px; stroke: rgb(97, 97, 97); stroke-opacity: 1;\"/><g class=\"overlines-above\"/><g class=\"xaxislayer-above\"><path class=\"xtick ticks crisp\" d=\"M0,88v5\" transform=\"translate(73.83,0)\" style=\"stroke: rgb(68, 68, 68); stroke-opacity: 1; stroke-width: 1px;\"/><path class=\"xtick ticks crisp\" d=\"M0,88v5\" transform=\"translate(150.24,0)\" style=\"stroke: rgb(68, 68, 68); stroke-opacity: 1; stroke-width: 1px;\"/><path class=\"xtick ticks crisp\" d=\"M0,88v5\" transform=\"translate(226.65,0)\" style=\"stroke: rgb(68, 68, 68); stroke-opacity: 1; stroke-width: 1px;\"/><path class=\"xtick ticks crisp\" d=\"M0,88v5\" transform=\"translate(303.06,0)\" style=\"stroke: rgb(68, 68, 68); stroke-opacity: 1; stroke-width: 1px;\"/><path class=\"xtick ticks crisp\" d=\"M0,88v5\" transform=\"translate(379.47,0)\" style=\"stroke: rgb(68, 68, 68); stroke-opacity: 1; stroke-width: 1px;\"/><path class=\"xtick ticks crisp\" d=\"M0,88v5\" transform=\"translate(455.88,0)\" style=\"stroke: rgb(68, 68, 68); stroke-opacity: 1; stroke-width: 1px;\"/><g class=\"xtick\"><text text-anchor=\"middle\" x=\"0\" y=\"105\" transform=\"translate(73.83,0)\" style=\"font-family: Arial; font-size: 10px; fill: rgb(36, 36, 36); fill-opacity: 1; white-space: pre; opacity: 1;\">0</text></g><g class=\"xtick\"><text text-anchor=\"middle\" x=\"0\" y=\"105\" style=\"font-family: Arial; font-size: 10px; fill: rgb(36, 36, 36); fill-opacity: 1; white-space: pre; opacity: 1;\" transform=\"translate(150.24,0)\">10</text></g><g class=\"xtick\"><text text-anchor=\"middle\" x=\"0\" y=\"105\" style=\"font-family: Arial; font-size: 10px; fill: rgb(36, 36, 36); fill-opacity: 1; white-space: pre; opacity: 1;\" transform=\"translate(226.65,0)\">20</text></g><g class=\"xtick\"><text text-anchor=\"middle\" x=\"0\" y=\"105\" style=\"font-family: Arial; font-size: 10px; fill: rgb(36, 36, 36); fill-opacity: 1; white-space: pre; opacity: 1;\" transform=\"translate(303.06,0)\">30</text></g><g class=\"xtick\"><text text-anchor=\"middle\" x=\"0\" y=\"105\" style=\"font-family: Arial; font-size: 10px; fill: rgb(36, 36, 36); fill-opacity: 1; white-space: pre; opacity: 1;\" transform=\"translate(379.47,0)\">40</text></g><g class=\"xtick\"><text text-anchor=\"middle\" x=\"0\" y=\"105\" style=\"font-family: Arial; font-size: 10px; fill: rgb(36, 36, 36); fill-opacity: 1; white-space: pre; opacity: 1;\" transform=\"translate(455.88,0)\">50</text></g></g><g class=\"yaxislayer-above\"><path class=\"ytick ticks crisp\" d=\"M70,0h-5\" transform=\"translate(0,66.75)\" style=\"stroke: rgb(68, 68, 68); stroke-opacity: 1; stroke-width: 1px;\"/><path class=\"ytick ticks crisp\" d=\"M70,0h-5\" transform=\"translate(0,26.25)\" style=\"stroke: rgb(68, 68, 68); stroke-opacity: 1; stroke-width: 1px;\"/><g class=\"ytick\"><text text-anchor=\"end\" x=\"63\" y=\"3.5\" transform=\"translate(0,66.75)\" style=\"font-family: Arial; font-size: 10px; fill: rgb(36, 36, 36); fill-opacity: 1; white-space: pre; opacity: 1;\">ProxyStream</text></g><g class=\"ytick\"><text text-anchor=\"end\" x=\"63\" y=\"3.5\" transform=\"translate(0,26.25)\" style=\"font-family: Arial; font-size: 10px; fill: rgb(36, 36, 36); fill-opacity: 1; white-space: pre; opacity: 1;\">Baseline</text></g></g><g class=\"overaxes-above\"/></g></g><g class=\"polarlayer\"/><g class=\"smithlayer\"/><g class=\"ternarylayer\"/><g class=\"geolayer\"/><g class=\"funnelarealayer\"/><g class=\"pielayer\"/><g class=\"iciclelayer\"/><g class=\"treemaplayer\"/><g class=\"sunburstlayer\"/><g class=\"glimages\"/><defs id=\"topdefs-f4f642\"><g class=\"clips\"/></defs><g class=\"layer-above\"><g class=\"imagelayer\"/><g class=\"shapelayer\"/></g><g class=\"infolayer\"><g class=\"g-gtitle\"/><g class=\"g-xtitle\"><text class=\"xtitle\" x=\"282.5\" y=\"119.9\" text-anchor=\"middle\" style=\"font-family: Arial; font-size: 12px; fill: rgb(36, 36, 36); opacity: 1; font-weight: normal; white-space: pre;\">Inference Time (s)</text></g><g class=\"g-ytitle\"/></g></svg>"
      ]
     },
     "metadata": {},
     "output_type": "display_data"
    },
    {
     "data": {
      "image/svg+xml": [
       "<svg class=\"main-svg\" xmlns=\"http://www.w3.org/2000/svg\" xmlns:xlink=\"http://www.w3.org/1999/xlink\" width=\"500\" height=\"100\" style=\"\" viewBox=\"0 0 500 100\"><rect x=\"0\" y=\"0\" width=\"500\" height=\"100\" style=\"fill: rgb(255, 255, 255); fill-opacity: 1;\"/><defs id=\"defs-da8680\"><g class=\"clips\"><clipPath id=\"clipda8680xyplot\" class=\"plotclip\"><rect width=\"322\" height=\"64\"/></clipPath><clipPath class=\"axesclip\" id=\"clipda8680x\"><rect x=\"53\" y=\"0\" width=\"322\" height=\"100\"/></clipPath><clipPath class=\"axesclip\" id=\"clipda8680y\"><rect x=\"0\" y=\"5\" width=\"500\" height=\"64\"/></clipPath><clipPath class=\"axesclip\" id=\"clipda8680xy\"><rect x=\"53\" y=\"5\" width=\"322\" height=\"64\"/></clipPath></g><g class=\"gradients\"/><g class=\"patterns\"/></defs><g class=\"bglayer\"/><g class=\"layer-below\"><g class=\"imagelayer\"/><g class=\"shapelayer\"/></g><g class=\"cartesianlayer\"><g class=\"subplot xy\"><g class=\"layer-subplot\"><g class=\"shapelayer\"/><g class=\"imagelayer\"/></g><g class=\"minor-gridlayer\"><g class=\"x\"/><g class=\"y\"/></g><g class=\"gridlayer\"><g class=\"x\"><path class=\"xgrid crisp\" transform=\"translate(193,0)\" d=\"M0,5v64\" style=\"stroke: rgb(224, 224, 224); stroke-opacity: 1; stroke-width: 1px;\"/><path class=\"xgrid crisp\" transform=\"translate(333,0)\" d=\"M0,5v64\" style=\"stroke: rgb(224, 224, 224); stroke-opacity: 1; stroke-width: 1px;\"/></g><g class=\"y\"><path class=\"ygrid crisp\" transform=\"translate(0,45.45)\" d=\"M53,0h322\" style=\"stroke: rgb(224, 224, 224); stroke-opacity: 1; stroke-width: 1px;\"/><path class=\"ygrid crisp\" transform=\"translate(0,22.33)\" d=\"M53,0h322\" style=\"stroke: rgb(224, 224, 224); stroke-opacity: 1; stroke-width: 1px;\"/></g></g><g class=\"zerolinelayer\"/><path class=\"xlines-below\"/><path class=\"ylines-below\"/><g class=\"overlines-below\"/><g class=\"xaxislayer-below\"/><g class=\"yaxislayer-below\"/><g class=\"overaxes-below\"/><g class=\"plot\" transform=\"translate(53,5)\" clip-path=\"url(#clipda8680xyplot)\"><g class=\"scatterlayer mlayer\"><g class=\"trace scatter trace0b8979\" style=\"stroke-miterlimit: 2; opacity: 1;\"><g class=\"fills\"/><g class=\"errorbars\"/><g class=\"lines\"><path class=\"js-line\" d=\"M0,58.89L2.8,60.8L5.6,32.36L8.4,31.66L11.2,58.56L14,56.03L16.8,57.76L19.6,26.52L22.4,23.94L25.2,56.13L28,46.29L30.8,44.96L33.6,55.28L36.4,43.48L39.2,54.36L42,45.06L44.8,52.83L47.6,44.23L50.4,52.81L53.2,42.35L56,43.15L58.8,22.54L61.6,18.21L64.4,40.17L67.2,50.3L70,39.91L72.8,49.7L75.6,48.99L78.4,49.11L81.2,48.8L84,18.94L86.8,47.66L89.6,47.16L92.4,37.8L95.2,36.95L98,46.48L100.8,45.9L103.6,45.74L106.4,43.81L109.2,45.25L112,45.35L117.6,44.82L120.4,35.67L123.2,42.57L126,42.39L131.6,43.14L134.4,42.59L137.2,33.69L140,42.17L142.8,31.03L145.6,42.03L148.4,41.84L151.2,37.92L154,40.29L156.8,40.01L165.2,39.64L168,38.65L182,37.24L184.8,37.56L187.6,36.03L190.4,36.13L193.2,37.04L196,36.18L201.6,35.8L204.4,35.69L212.8,35.54L215.6,3.2L218.4,5.65L221.2,32.74L226.8,32.34L229.6,33.14L232.4,23.72L235.2,32.86L240.8,32.66L243.6,32.43L249.2,31.38L252,31.12L257.6,28.67L260.4,28.78L263.2,28.59L266,27.04\" style=\"vector-effect: none; fill: none; stroke: rgb(17, 165, 121); stroke-opacity: 1; stroke-width: 2px; opacity: 1;\"/></g><g class=\"points\"/><g class=\"text\"/></g><g class=\"trace scatter trace354236\" style=\"stroke-miterlimit: 2; opacity: 1;\"><g class=\"fills\"/><g class=\"errorbars\"/><g class=\"lines\"><path class=\"js-line\" d=\"M0,58.42L2.8,60.77L5.6,60.69L89.6,54.13L92.4,53.69L103.6,53.03L106.4,52.43L114.8,51.76L117.6,51.51L145.6,48.79L148.4,47.68L151.2,48.33L154,48.06L184.8,44.32L187.6,43.95L190.4,43.77L193.2,42.4L196,43.17L198.8,42.85L204.4,41.96L207.2,41.39L215.6,40.82L218.4,40.54L229.6,39.26L232.4,38.36L238,38.33L240.8,38.08L254.8,35.96L257.6,35.78L316.4,29.17L319.2,28.22L322,28.47\" style=\"vector-effect: none; fill: none; stroke: rgb(127, 60, 141); stroke-opacity: 1; stroke-width: 2px; opacity: 1;\"/></g><g class=\"points\"/><g class=\"text\"/></g></g></g><g class=\"overplot\"/><path class=\"xlines-above crisp\" d=\"M52,69.5H376M52,4.5H376\" style=\"fill: none; stroke-width: 1px; stroke: rgb(97, 97, 97); stroke-opacity: 1;\"/><path class=\"ylines-above crisp\" d=\"M52.5,5V69M375.5,5V69\" style=\"fill: none; stroke-width: 1px; stroke: rgb(97, 97, 97); stroke-opacity: 1;\"/><g class=\"overlines-above\"/><g class=\"xaxislayer-above\"><path class=\"xtick ticks crisp\" d=\"M0,70v5\" transform=\"translate(53,0)\" style=\"stroke: rgb(68, 68, 68); stroke-opacity: 1; stroke-width: 1px;\"/><path class=\"xtick ticks crisp\" d=\"M0,70v5\" transform=\"translate(193,0)\" style=\"stroke: rgb(68, 68, 68); stroke-opacity: 1; stroke-width: 1px;\"/><path class=\"xtick ticks crisp\" d=\"M0,70v5\" transform=\"translate(333,0)\" style=\"stroke: rgb(68, 68, 68); stroke-opacity: 1; stroke-width: 1px;\"/><g class=\"xtick\"><text text-anchor=\"middle\" x=\"0\" y=\"87\" transform=\"translate(53,0)\" style=\"font-family: Arial; font-size: 10px; fill: rgb(36, 36, 36); fill-opacity: 1; white-space: pre; opacity: 1;\">0</text></g><g class=\"xtick\"><text text-anchor=\"middle\" x=\"0\" y=\"87\" style=\"font-family: Arial; font-size: 10px; fill: rgb(36, 36, 36); fill-opacity: 1; white-space: pre; opacity: 1;\" transform=\"translate(193,0)\">50</text></g><g class=\"xtick\"><text text-anchor=\"middle\" x=\"0\" y=\"87\" style=\"font-family: Arial; font-size: 10px; fill: rgb(36, 36, 36); fill-opacity: 1; white-space: pre; opacity: 1;\" transform=\"translate(333,0)\">100</text></g></g><g class=\"yaxislayer-above\"><path class=\"ytick ticks crisp\" d=\"M52,0h-5\" transform=\"translate(0,68.57)\" style=\"stroke: rgb(68, 68, 68); stroke-opacity: 1; stroke-width: 1px;\"/><path class=\"ytick ticks crisp\" d=\"M52,0h-5\" transform=\"translate(0,45.45)\" style=\"stroke: rgb(68, 68, 68); stroke-opacity: 1; stroke-width: 1px;\"/><path class=\"ytick ticks crisp\" d=\"M52,0h-5\" transform=\"translate(0,22.33)\" style=\"stroke: rgb(68, 68, 68); stroke-opacity: 1; stroke-width: 1px;\"/><g class=\"ytick\"><text text-anchor=\"end\" x=\"45\" y=\"3.5\" transform=\"translate(0,68.57)\" style=\"font-family: Arial; font-size: 10px; fill: rgb(36, 36, 36); fill-opacity: 1; white-space: pre; opacity: 1;\">0</text></g><g class=\"ytick\"><text text-anchor=\"end\" x=\"45\" y=\"3.5\" style=\"font-family: Arial; font-size: 10px; fill: rgb(36, 36, 36); fill-opacity: 1; white-space: pre; opacity: 1;\" transform=\"translate(0,45.45)\">20</text></g><g class=\"ytick\"><text text-anchor=\"end\" x=\"45\" y=\"3.5\" style=\"font-family: Arial; font-size: 10px; fill: rgb(36, 36, 36); fill-opacity: 1; white-space: pre; opacity: 1;\" transform=\"translate(0,22.33)\">40</text></g></g><g class=\"overaxes-above\"/></g></g><g class=\"polarlayer\"/><g class=\"smithlayer\"/><g class=\"ternarylayer\"/><g class=\"geolayer\"/><g class=\"funnelarealayer\"/><g class=\"pielayer\"/><g class=\"iciclelayer\"/><g class=\"treemaplayer\"/><g class=\"sunburstlayer\"/><g class=\"glimages\"/><defs id=\"topdefs-da8680\"><g class=\"clips\"/><clipPath id=\"legendda8680\"><rect width=\"115\" height=\"48\" x=\"1\" y=\"1\"/></clipPath></defs><g class=\"layer-above\"><g class=\"imagelayer\"/><g class=\"shapelayer\"/></g><g class=\"infolayer\"><g class=\"legend\" pointer-events=\"all\" transform=\"translate(378.22,14.600000000000001)\"><rect class=\"bg\" shape-rendering=\"crispEdges\" width=\"116\" height=\"49\" x=\"0.5\" y=\"0.5\" style=\"stroke: rgb(224, 224, 224); stroke-opacity: 1; fill: rgb(255, 255, 255); fill-opacity: 1; stroke-width: 1px;\"/><g class=\"scrollbox\" transform=\"\" clip-path=\"url(#legendda8680)\"><g class=\"groups\" transform=\"\"><g class=\"traces\" transform=\"translate(1,15.5)\" style=\"opacity: 1;\"><text class=\"legendtext\" text-anchor=\"start\" x=\"40\" y=\"4.680000000000001\" style=\"font-family: Arial; font-size: 12px; fill: rgb(36, 36, 36); fill-opacity: 1; white-space: pre;\">Baseline</text><g class=\"layers\" style=\"opacity: 1;\"><g class=\"legendfill\"/><g class=\"legendlines\"><path class=\"js-line\" d=\"M5,0h30\" style=\"fill: none; stroke: rgb(17, 165, 121); stroke-opacity: 1; stroke-width: 2px;\"/></g><g class=\"legendsymbols\"><g class=\"legendpoints\"/></g></g><rect class=\"legendtoggle\" x=\"0\" y=\"-9.5\" width=\"109.359375\" height=\"19\" style=\"fill: rgb(0, 0, 0); fill-opacity: 0;\"/></g></g><g class=\"groups\" transform=\"\"><g class=\"traces\" transform=\"translate(1,34.5)\" style=\"opacity: 1;\"><text class=\"legendtext\" text-anchor=\"start\" x=\"40\" y=\"4.680000000000001\" style=\"font-family: Arial; font-size: 12px; fill: rgb(36, 36, 36); fill-opacity: 1; white-space: pre;\">ProxyStream</text><g class=\"layers\" style=\"opacity: 1;\"><g class=\"legendfill\"/><g class=\"legendlines\"><path class=\"js-line\" d=\"M5,0h30\" style=\"fill: none; stroke: rgb(127, 60, 141); stroke-opacity: 1; stroke-width: 2px;\"/></g><g class=\"legendsymbols\"><g class=\"legendpoints\"/></g></g><rect class=\"legendtoggle\" x=\"0\" y=\"-9.5\" width=\"109.359375\" height=\"19\" style=\"fill: rgb(0, 0, 0); fill-opacity: 0;\"/></g></g></g><rect class=\"scrollbar\" rx=\"20\" ry=\"3\" width=\"0\" height=\"0\" x=\"0\" y=\"0\" style=\"fill: rgb(128, 139, 164); fill-opacity: 1;\"/></g><g class=\"g-gtitle\"/><g class=\"g-xtitle\" transform=\"translate(0,-4.400000000000006)\"><text class=\"xtitle\" x=\"214\" y=\"101.9\" text-anchor=\"middle\" style=\"font-family: Arial; font-size: 12px; fill: rgb(36, 36, 36); opacity: 1; font-weight: normal; white-space: pre;\">Inference Batch Index</text></g><g class=\"g-ytitle\" transform=\"translate(5.625,0)\"><text class=\"ytitle\" transform=\"rotate(-90,5.375,37)\" x=\"5.375\" y=\"37\" text-anchor=\"middle\" style=\"font-family: Arial; font-size: 12px; fill: rgb(36, 36, 36); opacity: 1; font-weight: normal; white-space: pre;\"><tspan class=\"line\" dy=\"0em\" x=\"5.375\" y=\"37\">Inference</tspan><tspan class=\"line\" dy=\"1.3em\" x=\"5.375\" y=\"37\">Time (s)</tspan></text></g></g></svg>"
      ]
     },
     "metadata": {},
     "output_type": "display_data"
    }
   ],
   "source": [
    "baseline_logs = read_log(\n",
    "    '../data/polaris/4-deepdrivemd//bba-baseline-10-node-190324-202832/result/inference.json',\n",
    ")\n",
    "proxystream_logs = read_log(\n",
    "    '../data/polaris/4-deepdrivemd/bba-proxystream-10-node-220324-140525/runtime.log',\n",
    ")\n",
    "\n",
    "baseline_times = parse_baseline_inference_times(baseline_logs)\n",
    "proxystream_times = parse_proxystream_inference_times(proxystream_logs)\n",
    "\n",
    "baseline_summary = (\n",
    "    baseline_times['timespan'].mean().total_seconds(),\n",
    "    baseline_times['timespan'].std().total_seconds(),\n",
    ")\n",
    "proxystream_summary = (\n",
    "    proxystream_times['timespan'].mean().total_seconds(),\n",
    "    proxystream_times['timespan'].std().total_seconds(),\n",
    ")\n",
    "\n",
    "print(f'Baseline inference batchs: {len(baseline_times)}')\n",
    "print(f'ProxyStream inference batchs: {len(proxystream_times)}')\n",
    "\n",
    "print(f'Baseline Mean (std): {baseline_summary[0]} ± {baseline_summary[1]}')\n",
    "print(\n",
    "    f'ProxyStream Mean (std): {proxystream_summary[0]} ± {proxystream_summary[1]}',\n",
    ")\n",
    "\n",
    "layout = dict(width=500, height=125, margin=dict(l=5, r=5, t=5, b=5))\n",
    "\n",
    "fig = plot_distributions(baseline_times, proxystream_times, layout)\n",
    "fig.show(renderer='svg')\n",
    "\n",
    "figure_dir = pathlib.Path('../figures/polaris/')\n",
    "figure_dir.mkdir(exist_ok=True)\n",
    "fig.write_image(figure_dir / '4-ddmd-inference-dist.pdf')\n",
    "\n",
    "layout = dict(width=500, height=100, margin=dict(l=5, r=5, t=5, b=5))\n",
    "\n",
    "fig = plot_batch_time(baseline_times, proxystream_times, layout)\n",
    "fig.show(renderer='svg')\n",
    "\n",
    "figure_dir = pathlib.Path('../figures/polaris/')\n",
    "figure_dir.mkdir(exist_ok=True)\n",
    "fig.write_image(figure_dir / '4-ddmd-inference-batches.pdf')"
   ]
  },
  {
   "cell_type": "code",
   "execution_count": null,
   "id": "f2c535b1-f9d9-446f-afbd-bf919b7f04bb",
   "metadata": {},
   "outputs": [],
   "source": []
  }
 ],
 "metadata": {
  "kernelspec": {
   "display_name": "Python 3 (ipykernel)",
   "language": "python",
   "name": "python3"
  },
  "language_info": {
   "codemirror_mode": {
    "name": "ipython",
    "version": 3
   },
   "file_extension": ".py",
   "mimetype": "text/x-python",
   "name": "python",
   "nbconvert_exporter": "python",
   "pygments_lexer": "ipython3",
   "version": "3.11.5"
  }
 },
 "nbformat": 4,
 "nbformat_minor": 5
}
